{
 "cells": [
  {
   "cell_type": "markdown",
   "metadata": {},
   "source": [
    "# CityBikes"
   ]
  },
  {
   "cell_type": "markdown",
   "metadata": {},
   "source": [
    "Send a request to CityBikes for the city of your choice. "
   ]
  },
  {
   "cell_type": "code",
   "execution_count": 4,
   "metadata": {},
   "outputs": [],
   "source": [
    "import pandas as pd \n",
    "import requests"
   ]
  },
  {
   "cell_type": "code",
   "execution_count": 5,
   "metadata": {},
   "outputs": [
    {
     "name": "stdout",
     "output_type": "stream",
     "text": [
      "Request Made Successfully\n"
     ]
    }
   ],
   "source": [
    "# Exploring City Bikes API trying to chose city to get bike info from\n",
    "\n",
    "# defining Networks URl for citybike\n",
    "url = f\"http://api.citybik.es/v2/networks\"\n",
    "\n",
    "#requesting API to give all networks data for CityBikes\n",
    "response = requests.get(url)\n",
    "\n",
    "if response.status_code == 200:\n",
    "    print(\"Request Made Successfully\")\n",
    "    \n",
    "else:\n",
    "    print(\"Error Requesting Data:\", reponse.status_code)"
   ]
  },
  {
   "cell_type": "code",
   "execution_count": 6,
   "metadata": {
    "scrolled": true
   },
   "outputs": [],
   "source": [
    "# parsing the data into Json format\n",
    "networks_data = response.json()\n"
   ]
  },
  {
   "cell_type": "markdown",
   "metadata": {},
   "source": [
    "#### Requesting all bike station data form Toronto(Canada)"
   ]
  },
  {
   "cell_type": "code",
   "execution_count": 7,
   "metadata": {
    "scrolled": true
   },
   "outputs": [
    {
     "name": "stdout",
     "output_type": "stream",
     "text": [
      "Request Successfull and Data Parsed\n"
     ]
    }
   ],
   "source": [
    "city_name = \"toronto\"  # defining city_name\n",
    "\n",
    "# creating url to select toronto as city from networks \n",
    "url_city = f\"http://api.citybik.es/v2/networks/{city_name}\"  \n",
    "response_city = requests.get(url_city)\n",
    "\n",
    "if response_city.status_code == 200:\n",
    "       # parsing the request data into json if the request is succesfull\n",
    "         toronto_city = response_city.json()\n",
    "         print(\"Request Successfull and Data Parsed\")\n",
    "else:\n",
    "         print(\"Request not Successfull:\", respones.status_code)"
   ]
  },
  {
   "cell_type": "code",
   "execution_count": 9,
   "metadata": {},
   "outputs": [],
   "source": [
    "all_stations = toronto_city['network'].get('stations')"
   ]
  },
  {
   "cell_type": "markdown",
   "metadata": {},
   "source": [
    "Parse through the response to get the details you want for the bike stations in that city (latitude, longitude, number of bikes). "
   ]
  },
  {
   "cell_type": "code",
   "execution_count": 16,
   "metadata": {},
   "outputs": [],
   "source": [
    "if all_stations:\n",
    "    # Initiate the lists to store stations details\n",
    "    stations_details = []\n",
    "    \n",
    "    # itirate through the stations data\n",
    "    for station in all_stations:\n",
    "        station_name = station.get('name')\n",
    "        latitude    =  station.get('latitude')\n",
    "        longitude   =  station.get('longitude')\n",
    "        bikes_available = station.get('free_bikes')\n",
    "        \n",
    "    # create a dictionary with station detials and append it to the list\n",
    "        stations_details.append({\n",
    "             'Station Name': station_name,\n",
    "             'Latitude': latitude,\n",
    "             'Longitude': longitude,\n",
    "             'Bikes Available': bikes_available\n",
    "              })\n",
    "        "
   ]
  },
  {
   "cell_type": "markdown",
   "metadata": {},
   "source": [
    "Put your parsed results into a DataFrame."
   ]
  },
  {
   "cell_type": "code",
   "execution_count": 23,
   "metadata": {},
   "outputs": [],
   "source": [
    "# Converting the dict list of all station info into a dataframe\n",
    "Bike_stations = pd.DataFrame(stations_details)"
   ]
  },
  {
   "cell_type": "code",
   "execution_count": 34,
   "metadata": {},
   "outputs": [],
   "source": [
    "# creating a csv file for Bike_stations Dataframe to use it for further steps\n",
    "file_path = 'C:\\\\Users\\\\pruth\\\\Desktop\\\\Data Science Lectures\\\\Statistical-Modelling-Project\\\\Bike_stations.csv'\n",
    "\n",
    "# save the dataframe into CSV file path\n",
    "Bike_stations.to_csv(file_path, index=False)\n",
    "\n"
   ]
  }
 ],
 "metadata": {
  "kernelspec": {
   "display_name": "Python 3 (ipykernel)",
   "language": "python",
   "name": "python3"
  },
  "language_info": {
   "codemirror_mode": {
    "name": "ipython",
    "version": 3
   },
   "file_extension": ".py",
   "mimetype": "text/x-python",
   "name": "python",
   "nbconvert_exporter": "python",
   "pygments_lexer": "ipython3",
   "version": "3.11.4"
  }
 },
 "nbformat": 4,
 "nbformat_minor": 4
}
