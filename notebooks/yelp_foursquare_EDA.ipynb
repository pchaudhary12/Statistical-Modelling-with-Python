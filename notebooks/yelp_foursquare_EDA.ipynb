{
 "cells": [
  {
   "cell_type": "code",
   "execution_count": 2,
   "metadata": {},
   "outputs": [],
   "source": [
    "# imports\n",
    "import pandas as pd\n",
    "import numpy as np\n",
    "import requests\n",
    "import os\n",
    "import json"
   ]
  },
  {
   "cell_type": "markdown",
   "metadata": {},
   "source": [
    "# Foursquare"
   ]
  },
  {
   "cell_type": "markdown",
   "metadata": {},
   "source": [
    "Send a request to Foursquare with a small radius (1000m) for all the bike stations in your city of choice. "
   ]
  },
  {
   "cell_type": "code",
   "execution_count": 3,
   "metadata": {},
   "outputs": [],
   "source": [
    "# Definining API key credentials\n",
    "API_KEY =os.environ.get(\"FOURSQUARE_API_KEY\")"
   ]
  },
  {
   "cell_type": "code",
   "execution_count": 4,
   "metadata": {},
   "outputs": [],
   "source": [
    "# importing result from citybikes API with all stations in Toronto\n",
    "df = pd.read_csv('C:\\\\Users\\\\pruth\\\\Desktop\\\\Data Science Lectures\\\\Statistical-Modelling-Project\\\\Bike_stations.csv', delimiter=',')"
   ]
  },
  {
   "cell_type": "code",
   "execution_count": 5,
   "metadata": {},
   "outputs": [],
   "source": [
    "# converting Dataframe into json\n",
    "Bike_stations = df.to_json(orient='records')"
   ]
  },
  {
   "cell_type": "code",
   "execution_count": 6,
   "metadata": {},
   "outputs": [],
   "source": [
    " # Defining API endpoint\n",
    "url = \"https://api.foursquare.com/v3/places/search\"\n",
    "\n",
    "# headers\n",
    "headers = {\"Accept\": \"application/json\",\n",
    "           \"Authorization\": API_KEY}\n",
    "\n"
   ]
  },
  {
   "cell_type": "code",
   "execution_count": 7,
   "metadata": {},
   "outputs": [],
   "source": [
    "# Bike_stations was in str datatype after converting it to json\n",
    "# to iterate through it change it to list of dictionary\n",
    "Bike_stations = json.loads(Bike_stations)\n",
    "#type(Bike_stations)\n"
   ]
  },
  {
   "cell_type": "code",
   "execution_count": null,
   "metadata": {
    "scrolled": true
   },
   "outputs": [],
   "source": [
    "# creating empty list to store responses\n",
    "response_list = []\n",
    "\n",
    "# iteraing through each station in Bike_stations \n",
    "for station in Bike_stations:\n",
    "    latitude = station.get('Latitude')\n",
    "    longitude = station.get('Longitude')\n",
    "    \n",
    "    \n",
    "     # Defining API endpoint\n",
    "    url = \"https://api.foursquare.com/v3/places/search\"\n",
    "\n",
    "    # headers\n",
    "    headers = {\"Accept\": \"application/json\",\n",
    "                 \"Authorization\": API_KEY}\n",
    "    \n",
    "\n",
    "    \n",
    "    \n",
    "    # setting up parameters for API request\n",
    "\n",
    "    params = {\n",
    "           'query': 'Indian Restaurant',\n",
    "           'll': f\"{latitude},{longitude}\",\n",
    "           'radius': 1000,\n",
    "           'open_now': True,\n",
    "           'fields': 'name,location,geocodes,categories,distance,rating,tel,hours,stats,features'\n",
    "             }  \n",
    "    \n",
    "    # send the foresquare API request\n",
    "    response = requests.get(url,params=params, headers=headers)\n",
    "    \n",
    "    \n",
    "    \n",
    "    # check if request was successfull (status code 200)\n",
    "    if response.status_code == 200:\n",
    "        #use the .json() method to parse the response content into json\n",
    "        data_json = response.json()\n",
    "        \n",
    "        # Append the response to the list\n",
    "        response_list.append(data_json)\n",
    "    else:\n",
    "        print(f\"Request failed: {response.status_code}\")"
   ]
  },
  {
   "cell_type": "markdown",
   "metadata": {},
   "source": [
    "Parse through the response to get the POI (such as restaurants, bars, etc) details you want (ratings, name, location, etc)"
   ]
  },
  {
   "cell_type": "code",
   "execution_count": 16,
   "metadata": {},
   "outputs": [],
   "source": [
    "flattened_data = [\n",
    "    {\n",
    "    \"Latitude\": response[\"geocodes\"][\"main\"].get(\"latitude\"),\n",
    "    \"Longitude\": response[\"geocodes\"][\"main\"].get(\"longitude\"),\n",
    "    \"name\": response.get(\"name\"),\n",
    "    \"distance\": response.get(\"distance\"),\n",
    "    \"address\": response[\"location\"].get(\"formatted_address\"),\n",
    "    \"telephone\": response.get(\"tel\"),\n",
    "    \"rating\": response.get(\"rating\"),\n",
    "    \"open_true\": response[\"hours\"].get(\"open_now\")\n",
    "    }\n",
    "  for result in response_list\n",
    "  for response in result.get(\"results\", [])\n",
    "]"
   ]
  },
  {
   "cell_type": "markdown",
   "metadata": {},
   "source": [
    "Put your parsed results into a DataFrame"
   ]
  },
  {
   "cell_type": "code",
   "execution_count": 19,
   "metadata": {},
   "outputs": [],
   "source": [
    "indian_restaurant = pd.DataFrame(flattened_data)"
   ]
  },
  {
   "cell_type": "code",
   "execution_count": 20,
   "metadata": {},
   "outputs": [
    {
     "data": {
      "text/html": [
       "<div>\n",
       "<style scoped>\n",
       "    .dataframe tbody tr th:only-of-type {\n",
       "        vertical-align: middle;\n",
       "    }\n",
       "\n",
       "    .dataframe tbody tr th {\n",
       "        vertical-align: top;\n",
       "    }\n",
       "\n",
       "    .dataframe thead th {\n",
       "        text-align: right;\n",
       "    }\n",
       "</style>\n",
       "<table border=\"1\" class=\"dataframe\">\n",
       "  <thead>\n",
       "    <tr style=\"text-align: right;\">\n",
       "      <th></th>\n",
       "      <th>Latitude</th>\n",
       "      <th>Longitude</th>\n",
       "      <th>name</th>\n",
       "      <th>distance</th>\n",
       "      <th>address</th>\n",
       "      <th>telephone</th>\n",
       "      <th>rating</th>\n",
       "      <th>open_true</th>\n",
       "    </tr>\n",
       "  </thead>\n",
       "  <tbody>\n",
       "    <tr>\n",
       "      <th>0</th>\n",
       "      <td>43.672665</td>\n",
       "      <td>-79.321041</td>\n",
       "      <td>Udupi Palace</td>\n",
       "      <td>810</td>\n",
       "      <td>1460 Gerrard St E (Coxwell Ave), Toronto ON M4...</td>\n",
       "      <td>(416) 405-8189</td>\n",
       "      <td>8.6</td>\n",
       "      <td>True</td>\n",
       "    </tr>\n",
       "    <tr>\n",
       "      <th>1</th>\n",
       "      <td>43.672278</td>\n",
       "      <td>-79.322523</td>\n",
       "      <td>Motimahal Restaurant Ltd</td>\n",
       "      <td>798</td>\n",
       "      <td>1422 Gerrard St E (Coxwell), Toronto ON M4L 1Z6</td>\n",
       "      <td>(416) 461-3111</td>\n",
       "      <td>7.6</td>\n",
       "      <td>True</td>\n",
       "    </tr>\n",
       "    <tr>\n",
       "      <th>2</th>\n",
       "      <td>43.671871</td>\n",
       "      <td>-79.324283</td>\n",
       "      <td>Bombay Chowpatty</td>\n",
       "      <td>812</td>\n",
       "      <td>1386 Gerrard St E, Toronto ON M4L 1Z2</td>\n",
       "      <td>(416) 405-8080</td>\n",
       "      <td>7.3</td>\n",
       "      <td>True</td>\n",
       "    </tr>\n",
       "    <tr>\n",
       "      <th>3</th>\n",
       "      <td>43.672004</td>\n",
       "      <td>-79.322433</td>\n",
       "      <td>Regency Restaurant Inc</td>\n",
       "      <td>790</td>\n",
       "      <td>1423 Gerrard St E (Hiawatha St), Toronto ON M4...</td>\n",
       "      <td>(416) 778-7366</td>\n",
       "      <td>6.2</td>\n",
       "      <td>True</td>\n",
       "    </tr>\n",
       "    <tr>\n",
       "      <th>4</th>\n",
       "      <td>43.666400</td>\n",
       "      <td>-79.316826</td>\n",
       "      <td>Butter Chicken Roti</td>\n",
       "      <td>255</td>\n",
       "      <td>1610 Queen St E (Coxwel), Toronto ON M4L 1G2</td>\n",
       "      <td>(647) 349-7684</td>\n",
       "      <td>NaN</td>\n",
       "      <td>True</td>\n",
       "    </tr>\n",
       "    <tr>\n",
       "      <th>...</th>\n",
       "      <td>...</td>\n",
       "      <td>...</td>\n",
       "      <td>...</td>\n",
       "      <td>...</td>\n",
       "      <td>...</td>\n",
       "      <td>...</td>\n",
       "      <td>...</td>\n",
       "      <td>...</td>\n",
       "    </tr>\n",
       "    <tr>\n",
       "      <th>3267</th>\n",
       "      <td>43.641873</td>\n",
       "      <td>-79.411437</td>\n",
       "      <td>My Roti Place</td>\n",
       "      <td>982</td>\n",
       "      <td>901 King St W (at Strachan Ave), Toronto ON M5...</td>\n",
       "      <td>(647) 295-9446</td>\n",
       "      <td>NaN</td>\n",
       "      <td>True</td>\n",
       "    </tr>\n",
       "    <tr>\n",
       "      <th>3268</th>\n",
       "      <td>43.638479</td>\n",
       "      <td>-79.417204</td>\n",
       "      <td>Brazen Head Irish Pub</td>\n",
       "      <td>617</td>\n",
       "      <td>165 E. Liberty St (at Lynn Williams St.), Toro...</td>\n",
       "      <td>(416) 535-8787</td>\n",
       "      <td>6.1</td>\n",
       "      <td>True</td>\n",
       "    </tr>\n",
       "    <tr>\n",
       "      <th>3269</th>\n",
       "      <td>43.641873</td>\n",
       "      <td>-79.411437</td>\n",
       "      <td>My Roti Place</td>\n",
       "      <td>622</td>\n",
       "      <td>901 King St W (at Strachan Ave), Toronto ON M5...</td>\n",
       "      <td>(647) 295-9446</td>\n",
       "      <td>NaN</td>\n",
       "      <td>True</td>\n",
       "    </tr>\n",
       "    <tr>\n",
       "      <th>3270</th>\n",
       "      <td>43.638768</td>\n",
       "      <td>-79.416315</td>\n",
       "      <td>Maurya East Indian Cuisine - Liberty Village</td>\n",
       "      <td>655</td>\n",
       "      <td>150 E Liberty St, Toronto ON M6K 3R5</td>\n",
       "      <td>(647) 347-7002</td>\n",
       "      <td>NaN</td>\n",
       "      <td>True</td>\n",
       "    </tr>\n",
       "    <tr>\n",
       "      <th>3271</th>\n",
       "      <td>43.638479</td>\n",
       "      <td>-79.417204</td>\n",
       "      <td>Brazen Head Irish Pub</td>\n",
       "      <td>692</td>\n",
       "      <td>165 E. Liberty St (at Lynn Williams St.), Toro...</td>\n",
       "      <td>(416) 535-8787</td>\n",
       "      <td>6.1</td>\n",
       "      <td>True</td>\n",
       "    </tr>\n",
       "  </tbody>\n",
       "</table>\n",
       "<p>3272 rows × 8 columns</p>\n",
       "</div>"
      ],
      "text/plain": [
       "       Latitude  Longitude                                          name  \\\n",
       "0     43.672665 -79.321041                                  Udupi Palace   \n",
       "1     43.672278 -79.322523                      Motimahal Restaurant Ltd   \n",
       "2     43.671871 -79.324283                              Bombay Chowpatty   \n",
       "3     43.672004 -79.322433                        Regency Restaurant Inc   \n",
       "4     43.666400 -79.316826                           Butter Chicken Roti   \n",
       "...         ...        ...                                           ...   \n",
       "3267  43.641873 -79.411437                                 My Roti Place   \n",
       "3268  43.638479 -79.417204                         Brazen Head Irish Pub   \n",
       "3269  43.641873 -79.411437                                 My Roti Place   \n",
       "3270  43.638768 -79.416315  Maurya East Indian Cuisine - Liberty Village   \n",
       "3271  43.638479 -79.417204                         Brazen Head Irish Pub   \n",
       "\n",
       "      distance                                            address  \\\n",
       "0          810  1460 Gerrard St E (Coxwell Ave), Toronto ON M4...   \n",
       "1          798    1422 Gerrard St E (Coxwell), Toronto ON M4L 1Z6   \n",
       "2          812              1386 Gerrard St E, Toronto ON M4L 1Z2   \n",
       "3          790  1423 Gerrard St E (Hiawatha St), Toronto ON M4...   \n",
       "4          255       1610 Queen St E (Coxwel), Toronto ON M4L 1G2   \n",
       "...        ...                                                ...   \n",
       "3267       982  901 King St W (at Strachan Ave), Toronto ON M5...   \n",
       "3268       617  165 E. Liberty St (at Lynn Williams St.), Toro...   \n",
       "3269       622  901 King St W (at Strachan Ave), Toronto ON M5...   \n",
       "3270       655               150 E Liberty St, Toronto ON M6K 3R5   \n",
       "3271       692  165 E. Liberty St (at Lynn Williams St.), Toro...   \n",
       "\n",
       "           telephone  rating  open_true  \n",
       "0     (416) 405-8189     8.6       True  \n",
       "1     (416) 461-3111     7.6       True  \n",
       "2     (416) 405-8080     7.3       True  \n",
       "3     (416) 778-7366     6.2       True  \n",
       "4     (647) 349-7684     NaN       True  \n",
       "...              ...     ...        ...  \n",
       "3267  (647) 295-9446     NaN       True  \n",
       "3268  (416) 535-8787     6.1       True  \n",
       "3269  (647) 295-9446     NaN       True  \n",
       "3270  (647) 347-7002     NaN       True  \n",
       "3271  (416) 535-8787     6.1       True  \n",
       "\n",
       "[3272 rows x 8 columns]"
      ]
     },
     "execution_count": 20,
     "metadata": {},
     "output_type": "execute_result"
    }
   ],
   "source": [
    "indian_restaurant"
   ]
  },
  {
   "cell_type": "code",
   "execution_count": 21,
   "metadata": {},
   "outputs": [],
   "source": [
    "# creating a csv file for Bike_stations Dataframe to use it for further steps\n",
    "file_path = 'C:\\\\Users\\\\pruth\\\\Desktop\\\\Data Science Lectures\\\\Statistical-Modelling-Project\\\\indian_restaurant.csv'\n",
    "\n",
    "# save the dataframe into CSV file path\n",
    "indian_restaurant.to_csv(file_path, index=False)\n"
   ]
  },
  {
   "cell_type": "code",
   "execution_count": null,
   "metadata": {},
   "outputs": [],
   "source": []
  },
  {
   "cell_type": "markdown",
   "metadata": {},
   "source": [
    "# Yelp"
   ]
  },
  {
   "cell_type": "markdown",
   "metadata": {},
   "source": [
    "Send a request to Yelp with a small radius (1000m) for all the bike stations in your city of choice. "
   ]
  },
  {
   "cell_type": "code",
   "execution_count": 3,
   "metadata": {},
   "outputs": [],
   "source": [
    "\n",
    "YELP_API_KEY = os.getenv(\"YELP_API_KEY\")\n",
    "\n",
    "#https://api.yelp.com/v3/businesses/search"
   ]
  },
  {
   "cell_type": "code",
   "execution_count": 12,
   "metadata": {
    "scrolled": false
   },
   "outputs": [],
   "source": [
    "# creating empty list to store responses\n",
    "yelp_response_list = []\n",
    "\n",
    "# maximum number of request to send\n",
    "MAX_REQUEST = 490\n",
    "\n",
    "# initialize a request count\n",
    "request_count = 0\n",
    "\n",
    "\n",
    "# iteraing through each station in Bike_stations \n",
    "for station in Bike_stations:\n",
    "    \n",
    "    #check if the maximum number of request has been reached\n",
    "    if request_count >= MAX_REQUEST:\n",
    "        break\n",
    "        \n",
    "    latitude = station.get('Latitude')\n",
    "    longitude = station.get('Longitude')\n",
    "    \n",
    "    \n",
    "     # Defining API endpoint\n",
    "    url_yelp = \"https://api.yelp.com/v3/businesses/search\"\n",
    "\n",
    "    # headers\n",
    "    headers = {\"Accept\": \"application/json\",\n",
    "                 \"Authorization\": f'Bearer {YELP_API_KEY}',\n",
    "                 }\n",
    "    \n",
    "\n",
    "    \n",
    "    \n",
    "    # setting up parameters for API request\n",
    "\n",
    "    params = {\n",
    "           'latitude': latitude,\n",
    "           'longitude': longitude,\n",
    "           'term': 'Indian Restaurant',\n",
    "           'radius': 1000,\n",
    "             }  \n",
    "    \n",
    "    # send the foresquare API request\n",
    "    response_yelp = requests.get(url=url_yelp,params=params, headers=headers)\n",
    "    \n",
    "    \n",
    "    # check if request was successfull (status code 200)\n",
    "    if response_yelp.status_code == 200:\n",
    "        #use the .json() method to parse the response content into json\n",
    "        yelp_data_json = response_yelp.json()\n",
    "        \n",
    "        # Append the response to the list\n",
    "        yelp_response_list.append(yelp_data_json)\n",
    "        \n",
    "        # Increment the request counter\n",
    "        request_count += 1\n",
    "    else:\n",
    "        print(f\"Request failed: {response_yelp.status_code}\")"
   ]
  },
  {
   "cell_type": "markdown",
   "metadata": {},
   "source": [
    "Parse through the response to get the POI (such as restaurants, bars, etc) details you want (ratings, name, location, etc)"
   ]
  },
  {
   "cell_type": "code",
   "execution_count": 17,
   "metadata": {},
   "outputs": [],
   "source": [
    "yelp_flattened_data = [\n",
    "    {\n",
    "    \"name\": response.get(\"name\"),\n",
    "    \"distance\": response.get(\"distance\"),\n",
    "    \"address\": response[\"location\"].get(\"display_address\"),\n",
    "    \"telephone\": response.get(\"display_phone\"),\n",
    "    \"rating\": response.get(\"rating\"),\n",
    "    \"review_counts\": response.get(\"review_count\"),\n",
    "    \"closed\": response.get(\"is_closed\")\n",
    "    }\n",
    "  for result in yelp_response_list\n",
    "  for response in result.get(\"businesses\", [])\n",
    "]"
   ]
  },
  {
   "cell_type": "markdown",
   "metadata": {},
   "source": [
    "Put your parsed results into a DataFrame"
   ]
  },
  {
   "cell_type": "code",
   "execution_count": 20,
   "metadata": {},
   "outputs": [],
   "source": [
    "yelp_indian_restaurant = pd.DataFrame(yelp_flattened_data)"
   ]
  },
  {
   "cell_type": "code",
   "execution_count": 53,
   "metadata": {},
   "outputs": [],
   "source": [
    "# creating a csv file for Bike_stations Dataframe to use it for further steps\n",
    "file_path = 'C:\\\\Users\\\\pruth\\\\Desktop\\\\Data Science Lectures\\\\Statistical-Modelling-Project\\\\yelp_indian_restaurant.csv'\n",
    "\n",
    "# save the dataframe into CSV file path\n",
    "yelp_indian_restaurant.to_csv(file_path, index=False)"
   ]
  },
  {
   "cell_type": "code",
   "execution_count": 32,
   "metadata": {},
   "outputs": [],
   "source": [
    "indian_restaurant = pd.read_csv('C:\\\\Users\\\\pruth\\\\Desktop\\\\Data Science Lectures\\\\Statistical-Modelling-Project\\\\indian_restaurant.csv')"
   ]
  },
  {
   "cell_type": "markdown",
   "metadata": {},
   "source": []
  },
  {
   "cell_type": "markdown",
   "metadata": {},
   "source": [
    "# Comparing Results"
   ]
  },
  {
   "cell_type": "markdown",
   "metadata": {},
   "source": [
    "We will go over indian_restaurant result that is the result we got from Foursqare API"
   ]
  },
  {
   "cell_type": "code",
   "execution_count": 22,
   "metadata": {
    "scrolled": true
   },
   "outputs": [
    {
     "data": {
      "text/html": [
       "<div>\n",
       "<style scoped>\n",
       "    .dataframe tbody tr th:only-of-type {\n",
       "        vertical-align: middle;\n",
       "    }\n",
       "\n",
       "    .dataframe tbody tr th {\n",
       "        vertical-align: top;\n",
       "    }\n",
       "\n",
       "    .dataframe thead th {\n",
       "        text-align: right;\n",
       "    }\n",
       "</style>\n",
       "<table border=\"1\" class=\"dataframe\">\n",
       "  <thead>\n",
       "    <tr style=\"text-align: right;\">\n",
       "      <th></th>\n",
       "      <th>Latitude</th>\n",
       "      <th>Longitude</th>\n",
       "      <th>name</th>\n",
       "      <th>distance</th>\n",
       "      <th>address</th>\n",
       "      <th>telephone</th>\n",
       "      <th>rating</th>\n",
       "      <th>open_true</th>\n",
       "    </tr>\n",
       "  </thead>\n",
       "  <tbody>\n",
       "    <tr>\n",
       "      <th>0</th>\n",
       "      <td>43.672665</td>\n",
       "      <td>-79.321041</td>\n",
       "      <td>Udupi Palace</td>\n",
       "      <td>810</td>\n",
       "      <td>1460 Gerrard St E (Coxwell Ave), Toronto ON M4...</td>\n",
       "      <td>(416) 405-8189</td>\n",
       "      <td>8.6</td>\n",
       "      <td>True</td>\n",
       "    </tr>\n",
       "    <tr>\n",
       "      <th>1</th>\n",
       "      <td>43.672278</td>\n",
       "      <td>-79.322523</td>\n",
       "      <td>Motimahal Restaurant Ltd</td>\n",
       "      <td>798</td>\n",
       "      <td>1422 Gerrard St E (Coxwell), Toronto ON M4L 1Z6</td>\n",
       "      <td>(416) 461-3111</td>\n",
       "      <td>7.6</td>\n",
       "      <td>True</td>\n",
       "    </tr>\n",
       "    <tr>\n",
       "      <th>2</th>\n",
       "      <td>43.671871</td>\n",
       "      <td>-79.324283</td>\n",
       "      <td>Bombay Chowpatty</td>\n",
       "      <td>812</td>\n",
       "      <td>1386 Gerrard St E, Toronto ON M4L 1Z2</td>\n",
       "      <td>(416) 405-8080</td>\n",
       "      <td>7.3</td>\n",
       "      <td>True</td>\n",
       "    </tr>\n",
       "    <tr>\n",
       "      <th>3</th>\n",
       "      <td>43.672004</td>\n",
       "      <td>-79.322433</td>\n",
       "      <td>Regency Restaurant Inc</td>\n",
       "      <td>790</td>\n",
       "      <td>1423 Gerrard St E (Hiawatha St), Toronto ON M4...</td>\n",
       "      <td>(416) 778-7366</td>\n",
       "      <td>6.2</td>\n",
       "      <td>True</td>\n",
       "    </tr>\n",
       "    <tr>\n",
       "      <th>4</th>\n",
       "      <td>43.666400</td>\n",
       "      <td>-79.316826</td>\n",
       "      <td>Butter Chicken Roti</td>\n",
       "      <td>255</td>\n",
       "      <td>1610 Queen St E (Coxwel), Toronto ON M4L 1G2</td>\n",
       "      <td>(647) 349-7684</td>\n",
       "      <td>NaN</td>\n",
       "      <td>True</td>\n",
       "    </tr>\n",
       "    <tr>\n",
       "      <th>...</th>\n",
       "      <td>...</td>\n",
       "      <td>...</td>\n",
       "      <td>...</td>\n",
       "      <td>...</td>\n",
       "      <td>...</td>\n",
       "      <td>...</td>\n",
       "      <td>...</td>\n",
       "      <td>...</td>\n",
       "    </tr>\n",
       "    <tr>\n",
       "      <th>3267</th>\n",
       "      <td>43.641873</td>\n",
       "      <td>-79.411437</td>\n",
       "      <td>My Roti Place</td>\n",
       "      <td>982</td>\n",
       "      <td>901 King St W (at Strachan Ave), Toronto ON M5...</td>\n",
       "      <td>(647) 295-9446</td>\n",
       "      <td>NaN</td>\n",
       "      <td>True</td>\n",
       "    </tr>\n",
       "    <tr>\n",
       "      <th>3268</th>\n",
       "      <td>43.638479</td>\n",
       "      <td>-79.417204</td>\n",
       "      <td>Brazen Head Irish Pub</td>\n",
       "      <td>617</td>\n",
       "      <td>165 E. Liberty St (at Lynn Williams St.), Toro...</td>\n",
       "      <td>(416) 535-8787</td>\n",
       "      <td>6.1</td>\n",
       "      <td>True</td>\n",
       "    </tr>\n",
       "    <tr>\n",
       "      <th>3269</th>\n",
       "      <td>43.641873</td>\n",
       "      <td>-79.411437</td>\n",
       "      <td>My Roti Place</td>\n",
       "      <td>622</td>\n",
       "      <td>901 King St W (at Strachan Ave), Toronto ON M5...</td>\n",
       "      <td>(647) 295-9446</td>\n",
       "      <td>NaN</td>\n",
       "      <td>True</td>\n",
       "    </tr>\n",
       "    <tr>\n",
       "      <th>3270</th>\n",
       "      <td>43.638768</td>\n",
       "      <td>-79.416315</td>\n",
       "      <td>Maurya East Indian Cuisine - Liberty Village</td>\n",
       "      <td>655</td>\n",
       "      <td>150 E Liberty St, Toronto ON M6K 3R5</td>\n",
       "      <td>(647) 347-7002</td>\n",
       "      <td>NaN</td>\n",
       "      <td>True</td>\n",
       "    </tr>\n",
       "    <tr>\n",
       "      <th>3271</th>\n",
       "      <td>43.638479</td>\n",
       "      <td>-79.417204</td>\n",
       "      <td>Brazen Head Irish Pub</td>\n",
       "      <td>692</td>\n",
       "      <td>165 E. Liberty St (at Lynn Williams St.), Toro...</td>\n",
       "      <td>(416) 535-8787</td>\n",
       "      <td>6.1</td>\n",
       "      <td>True</td>\n",
       "    </tr>\n",
       "  </tbody>\n",
       "</table>\n",
       "<p>3272 rows × 8 columns</p>\n",
       "</div>"
      ],
      "text/plain": [
       "       Latitude  Longitude                                          name  \\\n",
       "0     43.672665 -79.321041                                  Udupi Palace   \n",
       "1     43.672278 -79.322523                      Motimahal Restaurant Ltd   \n",
       "2     43.671871 -79.324283                              Bombay Chowpatty   \n",
       "3     43.672004 -79.322433                        Regency Restaurant Inc   \n",
       "4     43.666400 -79.316826                           Butter Chicken Roti   \n",
       "...         ...        ...                                           ...   \n",
       "3267  43.641873 -79.411437                                 My Roti Place   \n",
       "3268  43.638479 -79.417204                         Brazen Head Irish Pub   \n",
       "3269  43.641873 -79.411437                                 My Roti Place   \n",
       "3270  43.638768 -79.416315  Maurya East Indian Cuisine - Liberty Village   \n",
       "3271  43.638479 -79.417204                         Brazen Head Irish Pub   \n",
       "\n",
       "      distance                                            address  \\\n",
       "0          810  1460 Gerrard St E (Coxwell Ave), Toronto ON M4...   \n",
       "1          798    1422 Gerrard St E (Coxwell), Toronto ON M4L 1Z6   \n",
       "2          812              1386 Gerrard St E, Toronto ON M4L 1Z2   \n",
       "3          790  1423 Gerrard St E (Hiawatha St), Toronto ON M4...   \n",
       "4          255       1610 Queen St E (Coxwel), Toronto ON M4L 1G2   \n",
       "...        ...                                                ...   \n",
       "3267       982  901 King St W (at Strachan Ave), Toronto ON M5...   \n",
       "3268       617  165 E. Liberty St (at Lynn Williams St.), Toro...   \n",
       "3269       622  901 King St W (at Strachan Ave), Toronto ON M5...   \n",
       "3270       655               150 E Liberty St, Toronto ON M6K 3R5   \n",
       "3271       692  165 E. Liberty St (at Lynn Williams St.), Toro...   \n",
       "\n",
       "           telephone  rating  open_true  \n",
       "0     (416) 405-8189     8.6       True  \n",
       "1     (416) 461-3111     7.6       True  \n",
       "2     (416) 405-8080     7.3       True  \n",
       "3     (416) 778-7366     6.2       True  \n",
       "4     (647) 349-7684     NaN       True  \n",
       "...              ...     ...        ...  \n",
       "3267  (647) 295-9446     NaN       True  \n",
       "3268  (416) 535-8787     6.1       True  \n",
       "3269  (647) 295-9446     NaN       True  \n",
       "3270  (647) 347-7002     NaN       True  \n",
       "3271  (416) 535-8787     6.1       True  \n",
       "\n",
       "[3272 rows x 8 columns]"
      ]
     },
     "execution_count": 22,
     "metadata": {},
     "output_type": "execute_result"
    }
   ],
   "source": [
    "indian_restaurant"
   ]
  },
  {
   "cell_type": "code",
   "execution_count": 23,
   "metadata": {
    "scrolled": true
   },
   "outputs": [
    {
     "data": {
      "text/plain": [
       "Latitude        0\n",
       "Longitude       0\n",
       "name            0\n",
       "distance        0\n",
       "address         0\n",
       "telephone       4\n",
       "rating       1215\n",
       "open_true       0\n",
       "dtype: int64"
      ]
     },
     "execution_count": 23,
     "metadata": {},
     "output_type": "execute_result"
    }
   ],
   "source": [
    "# check any null values\n",
    "indian_restaurant.isnull().sum()"
   ]
  },
  {
   "cell_type": "code",
   "execution_count": 24,
   "metadata": {
    "scrolled": true
   },
   "outputs": [
    {
     "data": {
      "text/plain": [
       "61"
      ]
     },
     "execution_count": 24,
     "metadata": {},
     "output_type": "execute_result"
    }
   ],
   "source": [
    "# checking duplicating values \n",
    "indian_restaurant.duplicated().sum()"
   ]
  },
  {
   "cell_type": "code",
   "execution_count": 25,
   "metadata": {
    "scrolled": true
   },
   "outputs": [
    {
     "data": {
      "text/plain": [
       "(3272, 8)"
      ]
     },
     "execution_count": 25,
     "metadata": {},
     "output_type": "execute_result"
    }
   ],
   "source": [
    "indian_restaurant.shape"
   ]
  },
  {
   "cell_type": "markdown",
   "metadata": {},
   "source": [
    "We will go over indian restaurants that we got from yelp API requests"
   ]
  },
  {
   "cell_type": "code",
   "execution_count": 64,
   "metadata": {},
   "outputs": [
    {
     "data": {
      "text/plain": [
       "(5120, 7)"
      ]
     },
     "execution_count": 64,
     "metadata": {},
     "output_type": "execute_result"
    }
   ],
   "source": [
    "yelp_indian_restaurant.shape"
   ]
  },
  {
   "cell_type": "code",
   "execution_count": 65,
   "metadata": {},
   "outputs": [
    {
     "data": {
      "text/plain": [
       "name             0\n",
       "distance         0\n",
       "address          0\n",
       "telephone        0\n",
       "rating           0\n",
       "review_counts    0\n",
       "closed           0\n",
       "dtype: int64"
      ]
     },
     "execution_count": 65,
     "metadata": {},
     "output_type": "execute_result"
    }
   ],
   "source": [
    "# checking null values\n",
    "yelp_indian_restaurant.isnull().sum()"
   ]
  },
  {
   "cell_type": "code",
   "execution_count": 67,
   "metadata": {},
   "outputs": [
    {
     "data": {
      "text/plain": [
       "0"
      ]
     },
     "execution_count": 67,
     "metadata": {},
     "output_type": "execute_result"
    }
   ],
   "source": [
    "# checking duplicate values\n",
    "yelp_indian_restaurant.duplicated().sum()"
   ]
  },
  {
   "cell_type": "markdown",
   "metadata": {},
   "source": [
    "Which API provided you with more complete data? Provide an explanation. "
   ]
  },
  {
   "cell_type": "markdown",
   "metadata": {},
   "source": [
    "Yelp API provided more complete data as mentioned in above steps, There are no null and duplicated value in yelp result, where in foursquare there are null results in ratings and telephone numbers, also yelp provided more field atrributes from results then foursquare and yelp returns more precise and quantity result then foursqare.\n",
    "\n",
    "One downside for yelp is that it provides less api requests then Foursqare as you have to me more carefull with code writing with yelp request as to not run out of requests"
   ]
  },
  {
   "cell_type": "code",
   "execution_count": null,
   "metadata": {},
   "outputs": [],
   "source": []
  },
  {
   "cell_type": "code",
   "execution_count": null,
   "metadata": {},
   "outputs": [],
   "source": []
  },
  {
   "cell_type": "markdown",
   "metadata": {},
   "source": []
  },
  {
   "cell_type": "markdown",
   "metadata": {},
   "source": [
    "Get the top 10 restaurants according to their rating"
   ]
  },
  {
   "cell_type": "code",
   "execution_count": 69,
   "metadata": {
    "scrolled": false
   },
   "outputs": [
    {
     "data": {
      "text/html": [
       "<div>\n",
       "<style scoped>\n",
       "    .dataframe tbody tr th:only-of-type {\n",
       "        vertical-align: middle;\n",
       "    }\n",
       "\n",
       "    .dataframe tbody tr th {\n",
       "        vertical-align: top;\n",
       "    }\n",
       "\n",
       "    .dataframe thead th {\n",
       "        text-align: right;\n",
       "    }\n",
       "</style>\n",
       "<table border=\"1\" class=\"dataframe\">\n",
       "  <thead>\n",
       "    <tr style=\"text-align: right;\">\n",
       "      <th></th>\n",
       "      <th>name</th>\n",
       "      <th>distance</th>\n",
       "      <th>address</th>\n",
       "      <th>telephone</th>\n",
       "      <th>rating</th>\n",
       "      <th>open_true</th>\n",
       "    </tr>\n",
       "  </thead>\n",
       "  <tbody>\n",
       "    <tr>\n",
       "      <th>336</th>\n",
       "      <td>Bar Hop</td>\n",
       "      <td>431</td>\n",
       "      <td>391 King St W (at Charlotte St), Toronto ON M5...</td>\n",
       "      <td>(647) 352-7476</td>\n",
       "      <td>8.7</td>\n",
       "      <td>True</td>\n",
       "    </tr>\n",
       "    <tr>\n",
       "      <th>1512</th>\n",
       "      <td>Bar Hop</td>\n",
       "      <td>861</td>\n",
       "      <td>391 King St W (at Charlotte St), Toronto ON M5...</td>\n",
       "      <td>(647) 352-7476</td>\n",
       "      <td>8.7</td>\n",
       "      <td>True</td>\n",
       "    </tr>\n",
       "    <tr>\n",
       "      <th>1728</th>\n",
       "      <td>Bar Hop</td>\n",
       "      <td>623</td>\n",
       "      <td>391 King St W (at Charlotte St), Toronto ON M5...</td>\n",
       "      <td>(647) 352-7476</td>\n",
       "      <td>8.7</td>\n",
       "      <td>True</td>\n",
       "    </tr>\n",
       "    <tr>\n",
       "      <th>591</th>\n",
       "      <td>Bar Hop</td>\n",
       "      <td>653</td>\n",
       "      <td>391 King St W (at Charlotte St), Toronto ON M5...</td>\n",
       "      <td>(647) 352-7476</td>\n",
       "      <td>8.7</td>\n",
       "      <td>True</td>\n",
       "    </tr>\n",
       "    <tr>\n",
       "      <th>245</th>\n",
       "      <td>Bar Hop</td>\n",
       "      <td>991</td>\n",
       "      <td>391 King St W (at Charlotte St), Toronto ON M5...</td>\n",
       "      <td>(647) 352-7476</td>\n",
       "      <td>8.7</td>\n",
       "      <td>True</td>\n",
       "    </tr>\n",
       "    <tr>\n",
       "      <th>1905</th>\n",
       "      <td>Bar Hop</td>\n",
       "      <td>292</td>\n",
       "      <td>391 King St W (at Charlotte St), Toronto ON M5...</td>\n",
       "      <td>(647) 352-7476</td>\n",
       "      <td>8.7</td>\n",
       "      <td>True</td>\n",
       "    </tr>\n",
       "    <tr>\n",
       "      <th>745</th>\n",
       "      <td>Bar Hop</td>\n",
       "      <td>118</td>\n",
       "      <td>391 King St W (at Charlotte St), Toronto ON M5...</td>\n",
       "      <td>(647) 352-7476</td>\n",
       "      <td>8.7</td>\n",
       "      <td>True</td>\n",
       "    </tr>\n",
       "    <tr>\n",
       "      <th>1965</th>\n",
       "      <td>Bar Hop</td>\n",
       "      <td>838</td>\n",
       "      <td>391 King St W (at Charlotte St), Toronto ON M5...</td>\n",
       "      <td>(647) 352-7476</td>\n",
       "      <td>8.7</td>\n",
       "      <td>True</td>\n",
       "    </tr>\n",
       "    <tr>\n",
       "      <th>251</th>\n",
       "      <td>Bar Hop</td>\n",
       "      <td>315</td>\n",
       "      <td>391 King St W (at Charlotte St), Toronto ON M5...</td>\n",
       "      <td>(647) 352-7476</td>\n",
       "      <td>8.7</td>\n",
       "      <td>True</td>\n",
       "    </tr>\n",
       "    <tr>\n",
       "      <th>989</th>\n",
       "      <td>Bar Hop</td>\n",
       "      <td>914</td>\n",
       "      <td>391 King St W (at Charlotte St), Toronto ON M5...</td>\n",
       "      <td>(647) 352-7476</td>\n",
       "      <td>8.7</td>\n",
       "      <td>True</td>\n",
       "    </tr>\n",
       "  </tbody>\n",
       "</table>\n",
       "</div>"
      ],
      "text/plain": [
       "         name  distance                                            address  \\\n",
       "336   Bar Hop       431  391 King St W (at Charlotte St), Toronto ON M5...   \n",
       "1512  Bar Hop       861  391 King St W (at Charlotte St), Toronto ON M5...   \n",
       "1728  Bar Hop       623  391 King St W (at Charlotte St), Toronto ON M5...   \n",
       "591   Bar Hop       653  391 King St W (at Charlotte St), Toronto ON M5...   \n",
       "245   Bar Hop       991  391 King St W (at Charlotte St), Toronto ON M5...   \n",
       "1905  Bar Hop       292  391 King St W (at Charlotte St), Toronto ON M5...   \n",
       "745   Bar Hop       118  391 King St W (at Charlotte St), Toronto ON M5...   \n",
       "1965  Bar Hop       838  391 King St W (at Charlotte St), Toronto ON M5...   \n",
       "251   Bar Hop       315  391 King St W (at Charlotte St), Toronto ON M5...   \n",
       "989   Bar Hop       914  391 King St W (at Charlotte St), Toronto ON M5...   \n",
       "\n",
       "           telephone  rating  open_true  \n",
       "336   (647) 352-7476     8.7       True  \n",
       "1512  (647) 352-7476     8.7       True  \n",
       "1728  (647) 352-7476     8.7       True  \n",
       "591   (647) 352-7476     8.7       True  \n",
       "245   (647) 352-7476     8.7       True  \n",
       "1905  (647) 352-7476     8.7       True  \n",
       "745   (647) 352-7476     8.7       True  \n",
       "1965  (647) 352-7476     8.7       True  \n",
       "251   (647) 352-7476     8.7       True  \n",
       "989   (647) 352-7476     8.7       True  "
      ]
     },
     "execution_count": 69,
     "metadata": {},
     "output_type": "execute_result"
    }
   ],
   "source": [
    "# indian_restaurants foursquare result \n",
    "indian_restaurant.sort_values(by='rating',ascending=False).head(10)"
   ]
  },
  {
   "cell_type": "code",
   "execution_count": 71,
   "metadata": {},
   "outputs": [],
   "source": [
    "# This is including the duplicates as well but we will keep the duplicated results for now as looking at distance it is duplicating cause the restaurants might be showing for different bike stations"
   ]
  },
  {
   "cell_type": "code",
   "execution_count": 70,
   "metadata": {
    "scrolled": true
   },
   "outputs": [
    {
     "data": {
      "text/html": [
       "<div>\n",
       "<style scoped>\n",
       "    .dataframe tbody tr th:only-of-type {\n",
       "        vertical-align: middle;\n",
       "    }\n",
       "\n",
       "    .dataframe tbody tr th {\n",
       "        vertical-align: top;\n",
       "    }\n",
       "\n",
       "    .dataframe thead th {\n",
       "        text-align: right;\n",
       "    }\n",
       "</style>\n",
       "<table border=\"1\" class=\"dataframe\">\n",
       "  <thead>\n",
       "    <tr style=\"text-align: right;\">\n",
       "      <th></th>\n",
       "      <th>name</th>\n",
       "      <th>distance</th>\n",
       "      <th>address</th>\n",
       "      <th>telephone</th>\n",
       "      <th>rating</th>\n",
       "      <th>review_counts</th>\n",
       "      <th>closed</th>\n",
       "    </tr>\n",
       "  </thead>\n",
       "  <tbody>\n",
       "    <tr>\n",
       "      <th>3995</th>\n",
       "      <td>Naans &amp; More</td>\n",
       "      <td>437.504391</td>\n",
       "      <td>795 Bathurst St, Toronto, ON M5S 1Z5, Canada</td>\n",
       "      <td></td>\n",
       "      <td>5.0</td>\n",
       "      <td>1</td>\n",
       "      <td>False</td>\n",
       "    </tr>\n",
       "    <tr>\n",
       "      <th>617</th>\n",
       "      <td>Rikki Tikki</td>\n",
       "      <td>38.250332</td>\n",
       "      <td>209 Augusta Avenue, Toronto, ON M5T 2L4, Canada</td>\n",
       "      <td>+1 416-792-3229</td>\n",
       "      <td>5.0</td>\n",
       "      <td>27</td>\n",
       "      <td>False</td>\n",
       "    </tr>\n",
       "    <tr>\n",
       "      <th>3886</th>\n",
       "      <td>Cucini Xpress</td>\n",
       "      <td>311.814521</td>\n",
       "      <td>372 Yonge Street, Toronto, ON M5G 2K9, Canada</td>\n",
       "      <td>+1 416-827-1815</td>\n",
       "      <td>5.0</td>\n",
       "      <td>3</td>\n",
       "      <td>False</td>\n",
       "    </tr>\n",
       "    <tr>\n",
       "      <th>4474</th>\n",
       "      <td>Poppadum</td>\n",
       "      <td>1268.706174</td>\n",
       "      <td>874 Yonge Street, Toronto, ON M4W 2J1, Canada</td>\n",
       "      <td>+1 647-892-2907</td>\n",
       "      <td>5.0</td>\n",
       "      <td>6</td>\n",
       "      <td>False</td>\n",
       "    </tr>\n",
       "    <tr>\n",
       "      <th>4475</th>\n",
       "      <td>Gully</td>\n",
       "      <td>902.299035</td>\n",
       "      <td>521 Bloor Street W, Toronto, ON M5S 1Y4, Canada</td>\n",
       "      <td>+1 416-516-9099</td>\n",
       "      <td>5.0</td>\n",
       "      <td>1</td>\n",
       "      <td>False</td>\n",
       "    </tr>\n",
       "    <tr>\n",
       "      <th>380</th>\n",
       "      <td>Poppadum</td>\n",
       "      <td>1088.835400</td>\n",
       "      <td>874 Yonge Street, Toronto, ON M4W 2J1, Canada</td>\n",
       "      <td>+1 647-892-2907</td>\n",
       "      <td>5.0</td>\n",
       "      <td>6</td>\n",
       "      <td>False</td>\n",
       "    </tr>\n",
       "    <tr>\n",
       "      <th>379</th>\n",
       "      <td>Gully</td>\n",
       "      <td>802.352522</td>\n",
       "      <td>521 Bloor Street W, Toronto, ON M5S 1Y4, Canada</td>\n",
       "      <td>+1 416-516-9099</td>\n",
       "      <td>5.0</td>\n",
       "      <td>1</td>\n",
       "      <td>False</td>\n",
       "    </tr>\n",
       "    <tr>\n",
       "      <th>3887</th>\n",
       "      <td>Curry Kitchen + Falafel</td>\n",
       "      <td>882.480535</td>\n",
       "      <td>139 Dundas Street E, Toronto, ON M5B 2N6, Canada</td>\n",
       "      <td>+1 647-352-8779</td>\n",
       "      <td>5.0</td>\n",
       "      <td>1</td>\n",
       "      <td>False</td>\n",
       "    </tr>\n",
       "    <tr>\n",
       "      <th>3243</th>\n",
       "      <td>Momo Ghar</td>\n",
       "      <td>479.511821</td>\n",
       "      <td>568 Parliament St, Toronto, ON M4X 1P6, Canada</td>\n",
       "      <td>+1 416-920-8224</td>\n",
       "      <td>5.0</td>\n",
       "      <td>12</td>\n",
       "      <td>False</td>\n",
       "    </tr>\n",
       "    <tr>\n",
       "      <th>3890</th>\n",
       "      <td>Lett'us Roll</td>\n",
       "      <td>494.921617</td>\n",
       "      <td>335 Yonge Street, World Food Market, Toronto, ...</td>\n",
       "      <td></td>\n",
       "      <td>5.0</td>\n",
       "      <td>1</td>\n",
       "      <td>False</td>\n",
       "    </tr>\n",
       "  </tbody>\n",
       "</table>\n",
       "</div>"
      ],
      "text/plain": [
       "                         name     distance  \\\n",
       "3995             Naans & More   437.504391   \n",
       "617               Rikki Tikki    38.250332   \n",
       "3886            Cucini Xpress   311.814521   \n",
       "4474                 Poppadum  1268.706174   \n",
       "4475                    Gully   902.299035   \n",
       "380                  Poppadum  1088.835400   \n",
       "379                     Gully   802.352522   \n",
       "3887  Curry Kitchen + Falafel   882.480535   \n",
       "3243                Momo Ghar   479.511821   \n",
       "3890             Lett'us Roll   494.921617   \n",
       "\n",
       "                                                address        telephone  \\\n",
       "3995       795 Bathurst St, Toronto, ON M5S 1Z5, Canada                    \n",
       "617     209 Augusta Avenue, Toronto, ON M5T 2L4, Canada  +1 416-792-3229   \n",
       "3886      372 Yonge Street, Toronto, ON M5G 2K9, Canada  +1 416-827-1815   \n",
       "4474      874 Yonge Street, Toronto, ON M4W 2J1, Canada  +1 647-892-2907   \n",
       "4475    521 Bloor Street W, Toronto, ON M5S 1Y4, Canada  +1 416-516-9099   \n",
       "380       874 Yonge Street, Toronto, ON M4W 2J1, Canada  +1 647-892-2907   \n",
       "379     521 Bloor Street W, Toronto, ON M5S 1Y4, Canada  +1 416-516-9099   \n",
       "3887   139 Dundas Street E, Toronto, ON M5B 2N6, Canada  +1 647-352-8779   \n",
       "3243     568 Parliament St, Toronto, ON M4X 1P6, Canada  +1 416-920-8224   \n",
       "3890  335 Yonge Street, World Food Market, Toronto, ...                    \n",
       "\n",
       "      rating  review_counts  closed  \n",
       "3995     5.0              1   False  \n",
       "617      5.0             27   False  \n",
       "3886     5.0              3   False  \n",
       "4474     5.0              6   False  \n",
       "4475     5.0              1   False  \n",
       "380      5.0              6   False  \n",
       "379      5.0              1   False  \n",
       "3887     5.0              1   False  \n",
       "3243     5.0             12   False  \n",
       "3890     5.0              1   False  "
      ]
     },
     "execution_count": 70,
     "metadata": {},
     "output_type": "execute_result"
    }
   ],
   "source": [
    "# indian restaurant in yelp API\n",
    "yelp_indian_restaurant.sort_values(by='rating', ascending=False).head(10)"
   ]
  },
  {
   "cell_type": "code",
   "execution_count": null,
   "metadata": {},
   "outputs": [],
   "source": []
  }
 ],
 "metadata": {
  "kernelspec": {
   "display_name": "Python 3 (ipykernel)",
   "language": "python",
   "name": "python3"
  },
  "language_info": {
   "codemirror_mode": {
    "name": "ipython",
    "version": 3
   },
   "file_extension": ".py",
   "mimetype": "text/x-python",
   "name": "python",
   "nbconvert_exporter": "python",
   "pygments_lexer": "ipython3",
   "version": "3.11.4"
  }
 },
 "nbformat": 4,
 "nbformat_minor": 4
}
